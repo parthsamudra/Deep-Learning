{
  "nbformat": 4,
  "nbformat_minor": 0,
  "metadata": {
    "colab": {
      "provenance": []
    },
    "kernelspec": {
      "name": "python3",
      "display_name": "Python 3"
    },
    "language_info": {
      "name": "python"
    }
  },
  "cells": [
    {
      "cell_type": "code",
      "execution_count": null,
      "metadata": {
        "id": "mCdQ4Jtb_6Mo"
      },
      "outputs": [],
      "source": [
        "# PyTorch"
      ]
    },
    {
      "cell_type": "code",
      "source": [
        "# Tensors - Basic unit of data representation"
      ],
      "metadata": {
        "id": "-hQ9vDFDAOgW"
      },
      "execution_count": null,
      "outputs": []
    },
    {
      "cell_type": "code",
      "source": [
        "# install torch\n",
        "!pip install torch"
      ],
      "metadata": {
        "colab": {
          "base_uri": "https://localhost:8080/"
        },
        "id": "dQqAL21xAcBY",
        "outputId": "73ba982d-6739-4d53-dd1f-912a4ace6cc1"
      },
      "execution_count": null,
      "outputs": [
        {
          "output_type": "stream",
          "name": "stdout",
          "text": [
            "Looking in indexes: https://pypi.org/simple, https://us-python.pkg.dev/colab-wheels/public/simple/\n",
            "Requirement already satisfied: torch in /usr/local/lib/python3.7/dist-packages (1.12.1+cu113)\n",
            "Requirement already satisfied: typing-extensions in /usr/local/lib/python3.7/dist-packages (from torch) (4.1.1)\n"
          ]
        }
      ]
    },
    {
      "cell_type": "code",
      "source": [
        "# import torch\n",
        "import torch"
      ],
      "metadata": {
        "id": "GURquzmlA3og"
      },
      "execution_count": null,
      "outputs": []
    },
    {
      "cell_type": "code",
      "source": [
        "# Create a tensor with torch\n",
        "t = torch.tensor(3.)\n",
        "print(t)"
      ],
      "metadata": {
        "colab": {
          "base_uri": "https://localhost:8080/"
        },
        "id": "ql345c-KAjHo",
        "outputId": "26d5cf52-4efe-4cfd-f440-a9e5c2800e2f"
      },
      "execution_count": null,
      "outputs": [
        {
          "output_type": "stream",
          "name": "stdout",
          "text": [
            "tensor(3.)\n"
          ]
        }
      ]
    },
    {
      "cell_type": "code",
      "source": [
        "print(t.dtype)"
      ],
      "metadata": {
        "colab": {
          "base_uri": "https://localhost:8080/"
        },
        "id": "WIRTPHgjA1DS",
        "outputId": "0e4ae536-b886-445b-daa7-20c3d74c0605"
      },
      "execution_count": null,
      "outputs": [
        {
          "output_type": "stream",
          "name": "stdout",
          "text": [
            "torch.float32\n"
          ]
        }
      ]
    },
    {
      "cell_type": "code",
      "source": [
        "# creating a vector with tensor\n",
        "t1 = torch.tensor([1,2,3])\n",
        "print(t1)\n",
        "print(t1.dtype)"
      ],
      "metadata": {
        "id": "_GiKedXPBF-Q",
        "colab": {
          "base_uri": "https://localhost:8080/"
        },
        "outputId": "156ad8dc-6129-44c9-aa35-5201229da991"
      },
      "execution_count": null,
      "outputs": [
        {
          "output_type": "stream",
          "name": "stdout",
          "text": [
            "tensor([1, 2, 3])\n",
            "torch.int64\n"
          ]
        }
      ]
    },
    {
      "cell_type": "code",
      "source": [
        "t2 = torch.tensor([1.,2.,3.])\n",
        "print(t2)\n",
        "print(t2.dtype)"
      ],
      "metadata": {
        "colab": {
          "base_uri": "https://localhost:8080/"
        },
        "id": "1VKMeCo-B99g",
        "outputId": "526bc036-53e1-4333-fdf6-6e4dbf749139"
      },
      "execution_count": null,
      "outputs": [
        {
          "output_type": "stream",
          "name": "stdout",
          "text": [
            "tensor([1., 2., 3.])\n",
            "torch.float32\n"
          ]
        }
      ]
    },
    {
      "cell_type": "code",
      "source": [
        "# create a matrix\n",
        "li = [\n",
        "    [1,2,3],\n",
        "    [4,5,6],\n",
        "    [7,8,9]\n",
        "]\n",
        "t3 = torch.tensor(li)"
      ],
      "metadata": {
        "id": "xuOB36uJCWeU"
      },
      "execution_count": null,
      "outputs": []
    },
    {
      "cell_type": "code",
      "source": [
        "print(t3)"
      ],
      "metadata": {
        "colab": {
          "base_uri": "https://localhost:8080/"
        },
        "id": "L3LTUqP1CqbR",
        "outputId": "b3858e3e-9d78-4d34-835a-8373c946a4d1"
      },
      "execution_count": null,
      "outputs": [
        {
          "output_type": "stream",
          "name": "stdout",
          "text": [
            "tensor([[1, 2, 3],\n",
            "        [4, 5, 6],\n",
            "        [7, 8, 9]])\n"
          ]
        }
      ]
    },
    {
      "cell_type": "code",
      "source": [
        "print(t3.shape)"
      ],
      "metadata": {
        "colab": {
          "base_uri": "https://localhost:8080/"
        },
        "id": "QJGIvAnfCtn2",
        "outputId": "45b78666-74f0-49fa-a8fd-fef3377d3ab6"
      },
      "execution_count": null,
      "outputs": [
        {
          "output_type": "stream",
          "name": "stdout",
          "text": [
            "torch.Size([3, 3])\n"
          ]
        }
      ]
    },
    {
      "cell_type": "code",
      "source": [
        "li = [\n",
        "    [\n",
        "        [1,2,3],\n",
        "        [4,5,6]\n",
        "    ]\n",
        "]"
      ],
      "metadata": {
        "id": "iqctJpn7C25L"
      },
      "execution_count": null,
      "outputs": []
    },
    {
      "cell_type": "code",
      "source": [
        "t4 = torch.tensor(li)\n",
        "print(t4)\n",
        "print(t4.dtype)\n",
        "print(t4.shape)"
      ],
      "metadata": {
        "colab": {
          "base_uri": "https://localhost:8080/"
        },
        "id": "kUUZ2ptUDBXZ",
        "outputId": "d08681bc-3b7a-43b4-ab34-053ef1f6831b"
      },
      "execution_count": null,
      "outputs": [
        {
          "output_type": "stream",
          "name": "stdout",
          "text": [
            "tensor([[[1, 2, 3],\n",
            "         [4, 5, 6]]])\n",
            "torch.int64\n",
            "torch.Size([1, 2, 3])\n"
          ]
        }
      ]
    },
    {
      "cell_type": "code",
      "source": [
        "t5 = torch.tensor(1.)\n",
        "t6 = torch.tensor(4.)\n",
        "t7 = torch.tensor(7.)"
      ],
      "metadata": {
        "id": "jnJ0wFCCDGjz"
      },
      "execution_count": null,
      "outputs": []
    },
    {
      "cell_type": "code",
      "source": [
        "t5,t6,t7"
      ],
      "metadata": {
        "colab": {
          "base_uri": "https://localhost:8080/"
        },
        "id": "ip8nQyo-DkLS",
        "outputId": "743d66d4-28b6-4cc1-b8be-16fad0b4bc40"
      },
      "execution_count": null,
      "outputs": [
        {
          "output_type": "execute_result",
          "data": {
            "text/plain": [
              "(tensor(1.), tensor(4.), tensor(7.))"
            ]
          },
          "metadata": {},
          "execution_count": 26
        }
      ]
    },
    {
      "cell_type": "code",
      "source": [
        "t5*t6"
      ],
      "metadata": {
        "colab": {
          "base_uri": "https://localhost:8080/"
        },
        "id": "2tDfjXyoDoqv",
        "outputId": "cea58222-5c1c-415e-d84f-e7537fe23498"
      },
      "execution_count": null,
      "outputs": [
        {
          "output_type": "execute_result",
          "data": {
            "text/plain": [
              "tensor(4.)"
            ]
          },
          "metadata": {},
          "execution_count": 27
        }
      ]
    },
    {
      "cell_type": "code",
      "source": [
        "t5*t6+t7"
      ],
      "metadata": {
        "colab": {
          "base_uri": "https://localhost:8080/"
        },
        "id": "icqg69E6DsAj",
        "outputId": "f6934051-0bbf-4372-fdce-7bf87fa82c81"
      },
      "execution_count": null,
      "outputs": [
        {
          "output_type": "execute_result",
          "data": {
            "text/plain": [
              "tensor(11.)"
            ]
          },
          "metadata": {},
          "execution_count": 28
        }
      ]
    },
    {
      "cell_type": "code",
      "source": [],
      "metadata": {
        "id": "1vq1jDTZDvyf"
      },
      "execution_count": null,
      "outputs": []
    },
    {
      "cell_type": "code",
      "execution_count": null,
      "metadata": {
        "colab": {
          "base_uri": "https://localhost:8080/"
        },
        "id": "OqT0LnKfuA_J",
        "outputId": "d40ea470-323b-4a78-9471-7a0deaafca7f"
      },
      "outputs": [
        {
          "output_type": "stream",
          "name": "stdout",
          "text": [
            "Looking in indexes: https://pypi.org/simple, https://us-python.pkg.dev/colab-wheels/public/simple/\n",
            "Requirement already satisfied: pillow in /usr/local/lib/python3.7/dist-packages (7.1.2)\n"
          ]
        }
      ],
      "source": [
        "!pip install pillow"
      ]
    },
    {
      "cell_type": "code",
      "source": [
        "import numpy as np\n",
        "import PIL"
      ],
      "metadata": {
        "id": "NWtq-eu3uuQu"
      },
      "execution_count": null,
      "outputs": []
    },
    {
      "cell_type": "code",
      "source": [
        "from PIL import Image"
      ],
      "metadata": {
        "id": "yhrE9k0eu4lA"
      },
      "execution_count": null,
      "outputs": []
    },
    {
      "cell_type": "code",
      "source": [
        "img = Image.open('/content/306677786_195402239543689_2713905191557709494_n.webp')"
      ],
      "metadata": {
        "id": "us2vg-Hnu-Kw"
      },
      "execution_count": null,
      "outputs": []
    },
    {
      "cell_type": "code",
      "source": [
        "print(img)"
      ],
      "metadata": {
        "colab": {
          "base_uri": "https://localhost:8080/"
        },
        "id": "ZlmyMi3zvERv",
        "outputId": "f0db75d4-651f-4918-86fa-68990e7c5661"
      },
      "execution_count": null,
      "outputs": [
        {
          "output_type": "stream",
          "name": "stdout",
          "text": [
            "<PIL.JpegImagePlugin.JpegImageFile image mode=RGB size=1080x1080 at 0x7FE9B4BE5E50>\n"
          ]
        }
      ]
    },
    {
      "cell_type": "code",
      "source": [
        "print(img.size)"
      ],
      "metadata": {
        "colab": {
          "base_uri": "https://localhost:8080/"
        },
        "id": "4qbIK7hIvGYb",
        "outputId": "34edcdbf-203a-47bb-e27d-e805d5905268"
      },
      "execution_count": null,
      "outputs": [
        {
          "output_type": "stream",
          "name": "stdout",
          "text": [
            "(1080, 1080)\n"
          ]
        }
      ]
    },
    {
      "cell_type": "code",
      "source": [
        "from numpy import asarray"
      ],
      "metadata": {
        "id": "Ds8DqSfNvMK5"
      },
      "execution_count": null,
      "outputs": []
    },
    {
      "cell_type": "code",
      "source": [
        "imgarr = asarray(img)"
      ],
      "metadata": {
        "id": "xEFiuTmjvZ3e"
      },
      "execution_count": null,
      "outputs": []
    },
    {
      "cell_type": "code",
      "source": [
        "print(imgarr)"
      ],
      "metadata": {
        "id": "2Zu9CbbbveI7"
      },
      "execution_count": null,
      "outputs": []
    },
    {
      "cell_type": "code",
      "source": [
        "imgtensor = torch.from_numpy(imgarr)"
      ],
      "metadata": {
        "colab": {
          "base_uri": "https://localhost:8080/"
        },
        "id": "LCDHNM2HEbLh",
        "outputId": "4d3b792b-21d4-46a4-e577-55755a464fb0"
      },
      "execution_count": null,
      "outputs": [
        {
          "output_type": "stream",
          "name": "stderr",
          "text": [
            "/usr/local/lib/python3.7/dist-packages/ipykernel_launcher.py:1: UserWarning: The given NumPy array is not writable, and PyTorch does not support non-writable tensors. This means writing to this tensor will result in undefined behavior. You may want to copy the array to protect its data or make it writable before converting it to a tensor. This type of warning will be suppressed for the rest of this program. (Triggered internally at  ../torch/csrc/utils/tensor_numpy.cpp:172.)\n",
            "  \"\"\"Entry point for launching an IPython kernel.\n"
          ]
        }
      ]
    },
    {
      "cell_type": "code",
      "source": [
        "print(imgtensor)"
      ],
      "metadata": {
        "colab": {
          "base_uri": "https://localhost:8080/"
        },
        "id": "9ooRkUreEs8w",
        "outputId": "28c0256e-7a47-4e3d-fb99-556165fbace1"
      },
      "execution_count": null,
      "outputs": [
        {
          "output_type": "stream",
          "name": "stdout",
          "text": [
            "tensor([[[228, 228, 228],\n",
            "         [228, 228, 228],\n",
            "         [228, 228, 228],\n",
            "         ...,\n",
            "         [167, 167, 167],\n",
            "         [169, 169, 169],\n",
            "         [  0,   0,   0]],\n",
            "\n",
            "        [[228, 228, 228],\n",
            "         [228, 228, 228],\n",
            "         [228, 228, 228],\n",
            "         ...,\n",
            "         [167, 167, 167],\n",
            "         [169, 169, 169],\n",
            "         [  0,   0,   0]],\n",
            "\n",
            "        [[228, 228, 228],\n",
            "         [228, 228, 228],\n",
            "         [228, 228, 228],\n",
            "         ...,\n",
            "         [167, 167, 167],\n",
            "         [169, 169, 169],\n",
            "         [  0,   0,   0]],\n",
            "\n",
            "        ...,\n",
            "\n",
            "        [[  2,   2,   2],\n",
            "         [  2,   2,   2],\n",
            "         [  2,   2,   2],\n",
            "         ...,\n",
            "         [  2,   2,   2],\n",
            "         [  2,   2,   2],\n",
            "         [  2,   2,   2]],\n",
            "\n",
            "        [[  2,   2,   2],\n",
            "         [  2,   2,   2],\n",
            "         [  2,   2,   2],\n",
            "         ...,\n",
            "         [  2,   2,   2],\n",
            "         [  2,   2,   2],\n",
            "         [  2,   2,   2]],\n",
            "\n",
            "        [[  2,   2,   2],\n",
            "         [  2,   2,   2],\n",
            "         [  2,   2,   2],\n",
            "         ...,\n",
            "         [  2,   2,   2],\n",
            "         [  2,   2,   2],\n",
            "         [  2,   2,   2]]], dtype=torch.uint8)\n"
          ]
        }
      ]
    },
    {
      "cell_type": "code",
      "source": [
        "print(imgtensor.dtype)"
      ],
      "metadata": {
        "colab": {
          "base_uri": "https://localhost:8080/"
        },
        "id": "gw4GZLumEzKQ",
        "outputId": "110ace46-2dee-482d-b993-a78dbc9361d3"
      },
      "execution_count": null,
      "outputs": [
        {
          "output_type": "stream",
          "name": "stdout",
          "text": [
            "torch.uint8\n"
          ]
        }
      ]
    },
    {
      "cell_type": "code",
      "source": [],
      "metadata": {
        "id": "KZgSsTBvE4Eh"
      },
      "execution_count": null,
      "outputs": []
    }
  ]
}