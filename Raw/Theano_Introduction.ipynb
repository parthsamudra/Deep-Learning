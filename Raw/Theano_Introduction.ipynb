{
  "nbformat": 4,
  "nbformat_minor": 0,
  "metadata": {
    "colab": {
      "provenance": []
    },
    "kernelspec": {
      "name": "python3",
      "display_name": "Python 3"
    },
    "language_info": {
      "name": "python"
    }
  },
  "cells": [
    {
      "cell_type": "code",
      "execution_count": null,
      "metadata": {
        "id": "WQHu1wnx5JJv"
      },
      "outputs": [],
      "source": [
        "# Theano\n",
        "# Mathematical Operations\n",
        "# Arrays - Multi-dimensional\n"
      ]
    },
    {
      "cell_type": "code",
      "source": [
        "# Installation \n",
        "!pip install theano"
      ],
      "metadata": {
        "colab": {
          "base_uri": "https://localhost:8080/"
        },
        "id": "uWPY-Vsf6CEL",
        "outputId": "963cc105-f0bf-4c22-ca0d-4e912a5b2c2d"
      },
      "execution_count": null,
      "outputs": [
        {
          "output_type": "stream",
          "name": "stdout",
          "text": [
            "Looking in indexes: https://pypi.org/simple, https://us-python.pkg.dev/colab-wheels/public/simple/\n",
            "Collecting theano\n",
            "  Downloading Theano-1.0.5.tar.gz (2.8 MB)\n",
            "\u001b[K     |████████████████████████████████| 2.8 MB 12.8 MB/s \n",
            "\u001b[?25hRequirement already satisfied: numpy>=1.9.1 in /usr/local/lib/python3.7/dist-packages (from theano) (1.21.6)\n",
            "Requirement already satisfied: scipy>=0.14 in /usr/local/lib/python3.7/dist-packages (from theano) (1.7.3)\n",
            "Requirement already satisfied: six>=1.9.0 in /usr/local/lib/python3.7/dist-packages (from theano) (1.15.0)\n",
            "Building wheels for collected packages: theano\n",
            "  Building wheel for theano (setup.py) ... \u001b[?25l\u001b[?25hdone\n",
            "  Created wheel for theano: filename=Theano-1.0.5-py3-none-any.whl size=2668111 sha256=0de3a102133ae38c2bc6542b4860966edf2af8f168eca7c7666e751c862061b1\n",
            "  Stored in directory: /root/.cache/pip/wheels/26/68/6f/745330367ce7822fe0cd863712858151f5723a0a5e322cc144\n",
            "Successfully built theano\n",
            "Installing collected packages: theano\n",
            "Successfully installed theano-1.0.5\n"
          ]
        }
      ]
    },
    {
      "cell_type": "code",
      "source": [
        "import theano\n",
        "from theano import *\n",
        "import theano.tensor as T\n",
        "import numpy as np\n",
        "import pandas as pd\n",
        "from theano import function"
      ],
      "metadata": {
        "id": "QCXu80236Gnp"
      },
      "execution_count": null,
      "outputs": []
    },
    {
      "cell_type": "code",
      "source": [
        "# scalar variables\n",
        "v1 = T.dscalar()\n",
        "v2 = T.scalar()"
      ],
      "metadata": {
        "id": "G92K89dy6j46"
      },
      "execution_count": null,
      "outputs": []
    },
    {
      "cell_type": "code",
      "source": [
        "# subtraction\n",
        "sres = v1-v2\n",
        "\n",
        "#add\n",
        "ares = v1+v2"
      ],
      "metadata": {
        "id": "jjZKi_H87NYw"
      },
      "execution_count": null,
      "outputs": []
    },
    {
      "cell_type": "code",
      "source": [
        "# convert the results into functions\n",
        "calcsres = theano.function([v1,v2],sres)\n",
        "calcares = theano.function([v1,v2],ares)"
      ],
      "metadata": {
        "id": "r0SiHQuM7YoP"
      },
      "execution_count": null,
      "outputs": []
    },
    {
      "cell_type": "code",
      "source": [
        "calcares(12,23)"
      ],
      "metadata": {
        "colab": {
          "base_uri": "https://localhost:8080/"
        },
        "id": "F9vDHzyf7yTU",
        "outputId": "b18f526d-33b5-429c-b320-ba62fa8339dc"
      },
      "execution_count": null,
      "outputs": [
        {
          "output_type": "execute_result",
          "data": {
            "text/plain": [
              "array(35.)"
            ]
          },
          "metadata": {},
          "execution_count": 8
        }
      ]
    },
    {
      "cell_type": "code",
      "source": [
        "calcsres(13,12)"
      ],
      "metadata": {
        "colab": {
          "base_uri": "https://localhost:8080/"
        },
        "id": "rsHaNrOa76yW",
        "outputId": "97d7bcb9-0996-491f-bc34-9d929f0a9857"
      },
      "execution_count": null,
      "outputs": [
        {
          "output_type": "execute_result",
          "data": {
            "text/plain": [
              "array(1.)"
            ]
          },
          "metadata": {},
          "execution_count": 9
        }
      ]
    },
    {
      "cell_type": "code",
      "source": [],
      "metadata": {
        "id": "Em3DY3p57-6d"
      },
      "execution_count": null,
      "outputs": []
    },
    {
      "cell_type": "code",
      "source": [],
      "metadata": {
        "id": "1KG9nslv8XnY"
      },
      "execution_count": null,
      "outputs": []
    },
    {
      "cell_type": "code",
      "source": [],
      "metadata": {
        "id": "1DmAIrFf8Xpm"
      },
      "execution_count": null,
      "outputs": []
    },
    {
      "cell_type": "code",
      "source": [
        "x = T.dmatrix('x')\n",
        "y = T.dmatrix('y')\n"
      ],
      "metadata": {
        "id": "XXffhtYN8XtP"
      },
      "execution_count": null,
      "outputs": []
    },
    {
      "cell_type": "code",
      "source": [
        "# addition\n",
        "z = x+y"
      ],
      "metadata": {
        "id": "GSNHqleY9EsA"
      },
      "execution_count": null,
      "outputs": []
    },
    {
      "cell_type": "code",
      "source": [
        "func = function([x,y],z)"
      ],
      "metadata": {
        "id": "te6xkJdV9HAx"
      },
      "execution_count": null,
      "outputs": []
    },
    {
      "cell_type": "code",
      "source": [
        "m1 = [\n",
        "    [1,2],\n",
        "    [3,4]\n",
        "]\n",
        "m2 = [\n",
        "    [4,5],\n",
        "    [6,7]\n",
        "]"
      ],
      "metadata": {
        "id": "zktPD1Py9Q_b"
      },
      "execution_count": null,
      "outputs": []
    },
    {
      "cell_type": "code",
      "source": [
        "func(m1,m2)"
      ],
      "metadata": {
        "colab": {
          "base_uri": "https://localhost:8080/"
        },
        "id": "2paCV7Yq9hyv",
        "outputId": "f4ab3369-0659-4f7b-8dda-692b65345ae0"
      },
      "execution_count": null,
      "outputs": [
        {
          "output_type": "execute_result",
          "data": {
            "text/plain": [
              "array([[ 5.,  7.],\n",
              "       [ 9., 11.]])"
            ]
          },
          "metadata": {},
          "execution_count": 16
        }
      ]
    },
    {
      "cell_type": "code",
      "source": [
        "# element wise sum\n",
        "# 00 -> [1+4] -> 5"
      ],
      "metadata": {
        "id": "4xJz6bXT9lMn"
      },
      "execution_count": null,
      "outputs": []
    },
    {
      "cell_type": "code",
      "source": [],
      "metadata": {
        "id": "qJDb99ko9xN7"
      },
      "execution_count": null,
      "outputs": []
    },
    {
      "cell_type": "code",
      "source": [],
      "metadata": {
        "id": "JG8g1dqz-Kd3"
      },
      "execution_count": null,
      "outputs": []
    },
    {
      "cell_type": "code",
      "source": [],
      "metadata": {
        "id": "1Kgv1aic-Kgp"
      },
      "execution_count": null,
      "outputs": []
    },
    {
      "cell_type": "code",
      "source": [
        "# sigmoid / logistic function\n",
        "a = T.dmatrix('a')"
      ],
      "metadata": {
        "id": "QLN-cuma-KkP"
      },
      "execution_count": null,
      "outputs": []
    },
    {
      "cell_type": "code",
      "source": [
        "sigmoid = 1/ (1+T.exp(-a))"
      ],
      "metadata": {
        "id": "9B0kYYc6-WnU"
      },
      "execution_count": null,
      "outputs": []
    },
    {
      "cell_type": "code",
      "source": [
        "log = function([a],sigmoid)"
      ],
      "metadata": {
        "id": "ITyuKGeV-fWQ"
      },
      "execution_count": null,
      "outputs": []
    },
    {
      "cell_type": "code",
      "source": [
        "m3 = [[-10,-8,-7,-5,-3,-2,1,2,3,4,5,6,7,8,9,10]]\n",
        "log(m3)"
      ],
      "metadata": {
        "colab": {
          "base_uri": "https://localhost:8080/"
        },
        "id": "od1UNnvh-wEZ",
        "outputId": "42969b48-471a-4de0-d6e4-2b105c56c0ee"
      },
      "execution_count": null,
      "outputs": [
        {
          "output_type": "execute_result",
          "data": {
            "text/plain": [
              "array([[4.53978687e-05, 3.35350130e-04, 9.11051194e-04, 6.69285092e-03,\n",
              "        4.74258732e-02, 1.19202922e-01, 7.31058579e-01, 8.80797078e-01,\n",
              "        9.52574127e-01, 9.82013790e-01, 9.93307149e-01, 9.97527377e-01,\n",
              "        9.99088949e-01, 9.99664650e-01, 9.99876605e-01, 9.99954602e-01]])"
            ]
          },
          "metadata": {},
          "execution_count": 23
        }
      ]
    },
    {
      "cell_type": "code",
      "source": [
        "from matplotlib import pyplot as plt"
      ],
      "metadata": {
        "id": "XIc0kVqt-8g3"
      },
      "execution_count": null,
      "outputs": []
    },
    {
      "cell_type": "code",
      "source": [
        "plt.scatter(m3,log(m3))"
      ],
      "metadata": {
        "colab": {
          "base_uri": "https://localhost:8080/",
          "height": 282
        },
        "id": "1k5P0dRx_Vo5",
        "outputId": "981907a1-3d52-4216-ea06-db8044feb251"
      },
      "execution_count": null,
      "outputs": [
        {
          "output_type": "execute_result",
          "data": {
            "text/plain": [
              "<matplotlib.collections.PathCollection at 0x7f56f03b1210>"
            ]
          },
          "metadata": {},
          "execution_count": 25
        },
        {
          "output_type": "display_data",
          "data": {
            "text/plain": [
              "<Figure size 432x288 with 1 Axes>"
            ],
            "image/png": "[encoded data removed]"
          },
          "metadata": {
            "needs_background": "light"
          }
        }
      ]
    },
    {
      "cell_type": "code",
      "source": [],
      "metadata": {
        "id": "bnB721Y3_Zoj"
      },
      "execution_count": null,
      "outputs": []
    }
  ]
}